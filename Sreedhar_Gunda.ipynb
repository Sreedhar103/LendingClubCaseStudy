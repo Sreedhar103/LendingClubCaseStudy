{
 "cells": [
  {
   "cell_type": "markdown",
   "id": "ea1a8437",
   "metadata": {},
   "source": [
    "***Problem Statement***:\n",
    "\n",
    "This company is the largest online loan marketplace, facilitating personal loans, business loans, and financing of medical procedures. Borrowers can easily access lower interest rate loans through a fast online interface. \n",
    "\n",
    " \n",
    "\n",
    "Like most other lending companies, lending loans to ‘risky’ applicants is the largest source of financial loss (called credit loss). Credit loss is the amount of money lost by the lender when the borrower refuses to pay or runs away with the money owed. In other words, borrowers who default cause the largest amount of loss to the lenders. In this case, the customers labelled as 'charged-off' are the 'defaulters'. \n",
    "\n",
    " \n",
    "\n",
    "If one is able to identify these risky loan applicants, then such loans can be reduced thereby cutting down the amount of credit loss. Identification of such applicants using EDA is the aim of this case study.\n",
    "\n",
    " \n",
    "\n",
    "In other words, the company wants to understand the driving factors (or driver variables) behind loan default, i.e. the variables which are strong indicators of default.  The company can utilise this knowledge for its portfolio and risk assessment. \n",
    "\n",
    "\n",
    "To develop your understanding of the domain, you are advised to independently research a little about risk analytics (understanding the types of variables and their significance should be enough)."
   ]
  },
  {
   "cell_type": "code",
   "execution_count": 2,
   "id": "782bf7c6",
   "metadata": {},
   "outputs": [],
   "source": [
    "#Import all the needed libraries \n",
    "import pandas as pd\n",
    "import matplotlib.pyplot as plt\n",
    "import numpy as np\n",
    "import seaborn as sns\n",
    "import warnings\n",
    "warnings.filterwarnings('ignore')"
   ]
  },
  {
   "cell_type": "code",
   "execution_count": 3,
   "id": "da41f446",
   "metadata": {},
   "outputs": [],
   "source": [
    "#Load the dataset and check for the top 5 rows\n",
    "ds = pd.read_csv(\"loan - original.csv\")"
   ]
  },
  {
   "cell_type": "code",
   "execution_count": 4,
   "id": "2c2fae8c",
   "metadata": {},
   "outputs": [
    {
     "data": {
      "text/plain": [
       "(39717, 111)"
      ]
     },
     "execution_count": 4,
     "metadata": {},
     "output_type": "execute_result"
    }
   ],
   "source": [
    "ds.shape"
   ]
  },
  {
   "cell_type": "code",
   "execution_count": 5,
   "id": "77105b82",
   "metadata": {},
   "outputs": [
    {
     "data": {
      "text/plain": [
       "(39717, 57)"
      ]
     },
     "execution_count": 5,
     "metadata": {},
     "output_type": "execute_result"
    }
   ],
   "source": [
    "#Drop all the columns that contains only NA as values\n",
    "ds=ds.dropna(axis='columns',how='all')\n",
    "ds.shape"
   ]
  },
  {
   "cell_type": "code",
   "execution_count": 6,
   "id": "2f2b268b",
   "metadata": {},
   "outputs": [
    {
     "data": {
      "text/plain": [
       "id                            39717\n",
       "member_id                     39717\n",
       "loan_amnt                       885\n",
       "funded_amnt                    1041\n",
       "funded_amnt_inv                8205\n",
       "term                              2\n",
       "int_rate                        371\n",
       "installment                   15383\n",
       "grade                             7\n",
       "sub_grade                        35\n",
       "emp_title                     28820\n",
       "emp_length                       11\n",
       "home_ownership                    5\n",
       "annual_inc                     5318\n",
       "verification_status               3\n",
       "issue_d                          55\n",
       "loan_status                       3\n",
       "pymnt_plan                        1\n",
       "url                           39717\n",
       "desc                          26527\n",
       "purpose                          14\n",
       "title                         19615\n",
       "zip_code                        823\n",
       "addr_state                       50\n",
       "dti                            2868\n",
       "delinq_2yrs                      11\n",
       "earliest_cr_line                526\n",
       "inq_last_6mths                    9\n",
       "mths_since_last_delinq           95\n",
       "mths_since_last_record          111\n",
       "open_acc                         40\n",
       "pub_rec                           5\n",
       "revol_bal                     21711\n",
       "revol_util                     1089\n",
       "total_acc                        82\n",
       "initial_list_status               1\n",
       "out_prncp                      1137\n",
       "out_prncp_inv                  1138\n",
       "total_pymnt                   37850\n",
       "total_pymnt_inv               37518\n",
       "total_rec_prncp                7976\n",
       "total_rec_int                 35148\n",
       "total_rec_late_fee             1356\n",
       "recoveries                     4040\n",
       "collection_recovery_fee        2616\n",
       "last_pymnt_d                    101\n",
       "last_pymnt_amnt               34930\n",
       "next_pymnt_d                      2\n",
       "last_credit_pull_d              106\n",
       "collections_12_mths_ex_med        1\n",
       "policy_code                       1\n",
       "application_type                  1\n",
       "acc_now_delinq                    1\n",
       "chargeoff_within_12_mths          1\n",
       "delinq_amnt                       1\n",
       "pub_rec_bankruptcies              3\n",
       "tax_liens                         1\n",
       "dtype: int64"
      ]
     },
     "execution_count": 6,
     "metadata": {},
     "output_type": "execute_result"
    }
   ],
   "source": [
    "#Check for unique values\n",
    "ds.nunique(axis=0)"
   ]
  },
  {
   "cell_type": "code",
   "execution_count": 7,
   "id": "c3b2d886",
   "metadata": {},
   "outputs": [],
   "source": [
    "#Drop all the coulmns which have only one unique value as they don't give us any info on loan can be defaulted or not\n",
    "ds=ds.loc[:,ds.apply(pd.Series.nunique) != 1]"
   ]
  },
  {
   "cell_type": "code",
   "execution_count": 8,
   "id": "f635e6a3",
   "metadata": {},
   "outputs": [
    {
     "data": {
      "text/plain": [
       "id                         39717\n",
       "member_id                  39717\n",
       "loan_amnt                    885\n",
       "funded_amnt                 1041\n",
       "funded_amnt_inv             8205\n",
       "term                           2\n",
       "int_rate                     371\n",
       "installment                15383\n",
       "grade                          7\n",
       "sub_grade                     35\n",
       "emp_title                  28820\n",
       "emp_length                    11\n",
       "home_ownership                 5\n",
       "annual_inc                  5318\n",
       "verification_status            3\n",
       "issue_d                       55\n",
       "loan_status                    3\n",
       "url                        39717\n",
       "desc                       26527\n",
       "purpose                       14\n",
       "title                      19615\n",
       "zip_code                     823\n",
       "addr_state                    50\n",
       "dti                         2868\n",
       "delinq_2yrs                   11\n",
       "earliest_cr_line             526\n",
       "inq_last_6mths                 9\n",
       "mths_since_last_delinq        95\n",
       "mths_since_last_record       111\n",
       "open_acc                      40\n",
       "pub_rec                        5\n",
       "revol_bal                  21711\n",
       "revol_util                  1089\n",
       "total_acc                     82\n",
       "out_prncp                   1137\n",
       "out_prncp_inv               1138\n",
       "total_pymnt                37850\n",
       "total_pymnt_inv            37518\n",
       "total_rec_prncp             7976\n",
       "total_rec_int              35148\n",
       "total_rec_late_fee          1356\n",
       "recoveries                  4040\n",
       "collection_recovery_fee     2616\n",
       "last_pymnt_d                 101\n",
       "last_pymnt_amnt            34930\n",
       "next_pymnt_d                   2\n",
       "last_credit_pull_d           106\n",
       "pub_rec_bankruptcies           3\n",
       "dtype: int64"
      ]
     },
     "execution_count": 8,
     "metadata": {},
     "output_type": "execute_result"
    }
   ],
   "source": [
    "ds.nunique(axis=0)"
   ]
  },
  {
   "cell_type": "code",
   "execution_count": 9,
   "id": "88c1d887",
   "metadata": {},
   "outputs": [],
   "source": [
    "# Drop the columns which will is of only of text type\n",
    "ds.drop(\"url\", axis=1, inplace=True)\n",
    "ds.drop(\"desc\", axis=1, inplace=True)\n",
    "ds.drop(\"title\", axis=1, inplace=True)\n",
    "ds.drop(\"emp_title\", axis=1, inplace=True)\n",
    "ds.drop(\"zip_code\", axis=1, inplace=True)\n",
    "ds.drop(\"addr_state\", axis=1, inplace=True)\n",
    "#Drop the unnceseesary id values\n",
    "ds.drop(\"member_id\", axis=1, inplace=True)\n",
    "ds.drop(\"id\", axis=1, inplace=True)"
   ]
  },
  {
   "cell_type": "code",
   "execution_count": 10,
   "id": "6429014a",
   "metadata": {},
   "outputs": [],
   "source": [
    "# After Checking the number of null values.Columns mths_since_last_delinq,mths_since_last_record ,next_pymnt_d have lot of null values\n",
    "#So removing them.# Remove the fields which is applicable after the loan is approved.These columns cannot decide load defaulted or not.\n",
    "\n",
    "ds.drop(\"mths_since_last_delinq\", axis=1, inplace=True)\n",
    "ds.drop(\"mths_since_last_record\", axis=1, inplace=True)\n",
    "ds.drop(\"next_pymnt_d\", axis=1, inplace=True)\n",
    "ds.drop(\"total_acc\", axis=1, inplace=True)\n",
    "ds.drop(\"total_pymnt\", axis=1, inplace=True)\n",
    "ds.drop(\"total_pymnt_inv\", axis=1, inplace=True)\n",
    "ds.drop(\"total_rec_int\", axis=1, inplace=True)\n",
    "ds.drop(\"total_rec_late_fee\", axis=1, inplace=True)\n",
    "ds.drop(\"total_rec_prncp\", axis=1, inplace=True)\n",
    "ds.drop(\"last_pymnt_d\", axis=1, inplace=True)\n",
    "ds.drop(\"last_credit_pull_d\", axis=1, inplace=True)\n",
    "ds.drop(\"earliest_cr_line\", axis=1, inplace=True)\n",
    "ds.drop(\"inq_last_6mths\", axis=1, inplace=True)\n",
    "ds.drop(\"open_acc\", axis=1, inplace=True)\n",
    "ds.drop(\"pub_rec\", axis=1, inplace=True)\n",
    "ds.drop(\"revol_bal\", axis=1, inplace=True)\n",
    "ds.drop(\"out_prncp\", axis=1, inplace=True)\n",
    "ds.drop(\"recoveries\", axis=1, inplace=True)\n",
    "ds.drop(\"collection_recovery_fee\", axis=1, inplace=True)\n",
    "ds.drop(\"last_pymnt_amnt\", axis=1, inplace=True)\n",
    "ds.drop(\"revol_util\", axis=1, inplace=True)\n",
    "ds.drop(\"out_prncp_inv\", axis=1, inplace=True)\n",
    "ds.drop(\"delinq_2yrs\", axis=1, inplace=True)"
   ]
  },
  {
   "cell_type": "markdown",
   "id": "dbb87def",
   "metadata": {},
   "source": [
    "**Fill the null values for two columns emp_length,pub_rec_bankruptcies with default values**"
   ]
  },
  {
   "cell_type": "code",
   "execution_count": 11,
   "id": "c889fc44",
   "metadata": {},
   "outputs": [],
   "source": [
    "#Fill emploment length null values as 1000 to mark is as missing and replace < 1 year             \n",
    "ds.emp_length=ds.emp_length.str.replace(\"< 1 year\", \"0.5 year\", regex=True)\n",
    "ds['emp_length'] = ds['emp_length'].fillna('1000 years')\n",
    "ds.emp_length=(ds.emp_length.str.extract('(\\d+)'))\n",
    "ds.emp_length=ds.emp_length.apply(pd.to_numeric)"
   ]
  },
  {
   "cell_type": "code",
   "execution_count": 12,
   "id": "c2eaefb6",
   "metadata": {},
   "outputs": [
    {
     "data": {
      "text/plain": [
       "10      8879\n",
       "0       4583\n",
       "2       4388\n",
       "3       4095\n",
       "4       3436\n",
       "5       3282\n",
       "1       3240\n",
       "6       2229\n",
       "7       1773\n",
       "8       1479\n",
       "9       1258\n",
       "1000    1075\n",
       "Name: emp_length, dtype: int64"
      ]
     },
     "execution_count": 12,
     "metadata": {},
     "output_type": "execute_result"
    }
   ],
   "source": [
    "ds['emp_length'].value_counts()"
   ]
  },
  {
   "cell_type": "code",
   "execution_count": 13,
   "id": "a6fd8bf2",
   "metadata": {},
   "outputs": [],
   "source": [
    "ds['pub_rec_bankruptcies'] = ds['pub_rec_bankruptcies'].fillna('NOTAVAILABLE')"
   ]
  },
  {
   "cell_type": "code",
   "execution_count": 14,
   "id": "138cc720",
   "metadata": {},
   "outputs": [
    {
     "data": {
      "text/plain": [
       "0.0             37339\n",
       "1.0              1674\n",
       "NOTAVAILABLE      697\n",
       "2.0                 7\n",
       "Name: pub_rec_bankruptcies, dtype: int64"
      ]
     },
     "execution_count": 14,
     "metadata": {},
     "output_type": "execute_result"
    }
   ],
   "source": [
    "ds['pub_rec_bankruptcies'].value_counts()"
   ]
  },
  {
   "cell_type": "code",
   "execution_count": 15,
   "id": "c51a5972",
   "metadata": {},
   "outputs": [
    {
     "data": {
      "text/plain": [
       "loan_amnt               0\n",
       "funded_amnt             0\n",
       "funded_amnt_inv         0\n",
       "term                    0\n",
       "int_rate                0\n",
       "installment             0\n",
       "grade                   0\n",
       "sub_grade               0\n",
       "emp_length              0\n",
       "home_ownership          0\n",
       "annual_inc              0\n",
       "verification_status     0\n",
       "issue_d                 0\n",
       "loan_status             0\n",
       "purpose                 0\n",
       "dti                     0\n",
       "pub_rec_bankruptcies    0\n",
       "dtype: int64"
      ]
     },
     "execution_count": 15,
     "metadata": {},
     "output_type": "execute_result"
    }
   ],
   "source": [
    "ds.isnull().sum()"
   ]
  },
  {
   "cell_type": "code",
   "execution_count": 16,
   "id": "15146f27",
   "metadata": {},
   "outputs": [
    {
     "name": "stdout",
     "output_type": "stream",
     "text": [
      "<class 'pandas.core.frame.DataFrame'>\n",
      "RangeIndex: 39717 entries, 0 to 39716\n",
      "Data columns (total 17 columns):\n",
      " #   Column                Non-Null Count  Dtype  \n",
      "---  ------                --------------  -----  \n",
      " 0   loan_amnt             39717 non-null  int64  \n",
      " 1   funded_amnt           39717 non-null  int64  \n",
      " 2   funded_amnt_inv       39717 non-null  float64\n",
      " 3   term                  39717 non-null  object \n",
      " 4   int_rate              39717 non-null  object \n",
      " 5   installment           39717 non-null  float64\n",
      " 6   grade                 39717 non-null  object \n",
      " 7   sub_grade             39717 non-null  object \n",
      " 8   emp_length            39717 non-null  int64  \n",
      " 9   home_ownership        39717 non-null  object \n",
      " 10  annual_inc            39717 non-null  float64\n",
      " 11  verification_status   39717 non-null  object \n",
      " 12  issue_d               39717 non-null  object \n",
      " 13  loan_status           39717 non-null  object \n",
      " 14  purpose               39717 non-null  object \n",
      " 15  dti                   39717 non-null  float64\n",
      " 16  pub_rec_bankruptcies  39717 non-null  object \n",
      "dtypes: float64(4), int64(3), object(10)\n",
      "memory usage: 5.2+ MB\n"
     ]
    }
   ],
   "source": [
    "ds.info()"
   ]
  },
  {
   "cell_type": "code",
   "execution_count": 17,
   "id": "62d24008",
   "metadata": {},
   "outputs": [],
   "source": [
    "# We are intrested only on the loans that are Fully paid and Charged off. For the loads that are current we don't whether they will be defaulted or not So removing them\n",
    "ds = ds[~(ds.loan_status == \"Current\")]"
   ]
  },
  {
   "cell_type": "code",
   "execution_count": 18,
   "id": "c3b30063",
   "metadata": {},
   "outputs": [
    {
     "data": {
      "image/png": "[encoded data removed]",
      "text/plain": [
       "<Figure size 432x288 with 1 Axes>"
      ]
     },
     "metadata": {},
     "output_type": "display_data"
    }
   ],
   "source": [
    "#confirm the loan status\n",
    "ds['loan_status'].value_counts().plot.pie()\n",
    "plt.show()"
   ]
  },
  {
   "cell_type": "markdown",
   "id": "d397238b",
   "metadata": {},
   "source": [
    "# <a id='1'>1.Uni-Variate Analysis</a>"
   ]
  },
  {
   "cell_type": "code",
   "execution_count": 19,
   "id": "293e49fe",
   "metadata": {},
   "outputs": [
    {
     "data": {
      "image/png": "[encoded data removed]",
      "text/plain": [
       "<Figure size 432x288 with 1 Axes>"
      ]
     },
     "metadata": {
      "needs_background": "light"
     },
     "output_type": "display_data"
    }
   ],
   "source": [
    "ds.home_ownership.value_counts()\n",
    "sns.countplot(x=\"home_ownership\", data=ds, palette=\"bwr\")\n",
    "plt.show()"
   ]
  },
  {
   "cell_type": "markdown",
   "id": "bd672feb",
   "metadata": {},
   "source": [
    "**Observations**\n",
    "\n",
    " People chose loans in order to pay the rent"
   ]
  },
  {
   "cell_type": "code",
   "execution_count": 20,
   "id": "11db3204",
   "metadata": {},
   "outputs": [
    {
     "data": {
      "image/png": "[encoded data removed]",
      "text/plain": [
       "<Figure size 432x288 with 1 Axes>"
      ]
     },
     "metadata": {
      "needs_background": "light"
     },
     "output_type": "display_data"
    }
   ],
   "source": [
    "ds.purpose.value_counts()\n",
    "#plt.figure(figsize=[150,100])\n",
    "#plt.rcParams.update({'font.size': 20})\n",
    "sns.countplot(y=\"purpose\", data=ds, palette=\"bwr\")\n",
    "plt.show()"
   ]
  },
  {
   "cell_type": "markdown",
   "id": "7e5e1c22",
   "metadata": {},
   "source": [
    "**Observations**\n",
    "\n",
    "The purpose of the loan people will take is because of credit card as debt_conslidation include may other credits\n"
   ]
  },
  {
   "cell_type": "markdown",
   "id": "c2e95cfb",
   "metadata": {},
   "source": [
    "**Handling Outliers**"
   ]
  },
  {
   "cell_type": "code",
   "execution_count": 21,
   "id": "06e09390",
   "metadata": {},
   "outputs": [
    {
     "data": {
      "image/png": "[encoded data removed]",
      "text/plain": [
       "<Figure size 432x288 with 1 Axes>"
      ]
     },
     "metadata": {
      "needs_background": "light"
     },
     "output_type": "display_data"
    }
   ],
   "source": [
    "ds.annual_inc.describe()\n",
    "sns.boxplot(ds['annual_inc'])\n",
    "plt.show()"
   ]
  },
  {
   "cell_type": "code",
   "execution_count": 22,
   "id": "8ce550b2",
   "metadata": {},
   "outputs": [
    {
     "data": {
      "text/plain": [
       "0.25     40000.0\n",
       "0.75     82000.0\n",
       "0.95    140004.0\n",
       "Name: annual_inc, dtype: float64"
      ]
     },
     "execution_count": 22,
     "metadata": {},
     "output_type": "execute_result"
    }
   ],
   "source": [
    "quantile_info = ds.annual_inc.quantile([0.25, 0.75,0.95])\n",
    "quantile_info"
   ]
  },
  {
   "cell_type": "code",
   "execution_count": 23,
   "id": "f8c10453",
   "metadata": {},
   "outputs": [],
   "source": [
    "annual_inc_95Percentile = ds['annual_inc'].quantile(0.95)\n",
    "ds = ds[ds.annual_inc <= annual_inc_95Percentile]"
   ]
  },
  {
   "cell_type": "code",
   "execution_count": 24,
   "id": "23e4a5b4",
   "metadata": {},
   "outputs": [
    {
     "data": {
      "image/png": "[encoded data removed]",
      "text/plain": [
       "<Figure size 432x288 with 1 Axes>"
      ]
     },
     "metadata": {
      "needs_background": "light"
     },
     "output_type": "display_data"
    }
   ],
   "source": [
    "sns.boxplot(ds['annual_inc'])\n",
    "plt.show()"
   ]
  },
  {
   "cell_type": "markdown",
   "id": "fec3313b",
   "metadata": {},
   "source": [
    "***Segemented UniVaraite Analysis for already defaulted loans i.e., getting values for charged off loans and arraging per category***"
   ]
  },
  {
   "cell_type": "code",
   "execution_count": 25,
   "id": "ab42ade8",
   "metadata": {},
   "outputs": [
    {
     "data": {
      "image/png": "[encoded data removed]",
      "text/plain": [
       "<Figure size 432x288 with 1 Axes>"
      ]
     },
     "metadata": {
      "needs_background": "light"
     },
     "output_type": "display_data"
    }
   ],
   "source": [
    "sns.countplot(x = 'grade', data = ds[ds.loan_status == 'Charged Off'], order = ['A', 'B', 'C', 'D', 'E', 'F', 'G'])\n",
    "plt.show()"
   ]
  },
  {
   "cell_type": "markdown",
   "id": "bd279afc",
   "metadata": {},
   "source": [
    "**Observations**\n",
    "Grade B has more percentage of defauluting the loan\n"
   ]
  },
  {
   "cell_type": "code",
   "execution_count": 26,
   "id": "d231024a",
   "metadata": {},
   "outputs": [
    {
     "data": {
      "text/plain": [
       "<bound method NDFrame.head of 0        B2\n",
       "1        C4\n",
       "2        C5\n",
       "3        C1\n",
       "5        A4\n",
       "         ..\n",
       "39711    B1\n",
       "39712    A4\n",
       "39713    C1\n",
       "39714    A4\n",
       "39716    E2\n",
       "Name: sub_grade, Length: 36654, dtype: object>"
      ]
     },
     "execution_count": 26,
     "metadata": {},
     "output_type": "execute_result"
    }
   ],
   "source": [
    "ds.sub_grade.head"
   ]
  },
  {
   "cell_type": "code",
   "execution_count": 27,
   "id": "45104ffe",
   "metadata": {},
   "outputs": [
    {
     "data": {
      "text/plain": [
       "0    2\n",
       "1    4\n",
       "2    5\n",
       "3    1\n",
       "5    4\n",
       "Name: sub_grade, dtype: int64"
      ]
     },
     "execution_count": 27,
     "metadata": {},
     "output_type": "execute_result"
    }
   ],
   "source": [
    "#Remove preceeding grade values from Subgrade column\n",
    "ds.sub_grade = pd.to_numeric(ds.sub_grade.apply(lambda x : x[-1]))\n",
    "ds.sub_grade.head()"
   ]
  },
  {
   "cell_type": "code",
   "execution_count": 29,
   "id": "2b64ac6e",
   "metadata": {},
   "outputs": [
    {
     "data": {
      "image/png": "[encoded data removed]",
      "text/plain": [
       "<Figure size 432x288 with 1 Axes>"
      ]
     },
     "metadata": {
      "needs_background": "light"
     },
     "output_type": "display_data"
    }
   ],
   "source": [
    "fig, ax = plt.subplots()\n",
    "sns.countplot(x = 'grade', order = ['A', 'B', 'C', 'D', 'E', 'F', 'G'] , hue = 'sub_grade',data = ds[ds.loan_status == 'Charged Off'])\n",
    "plt.show()"
   ]
  },
  {
   "cell_type": "markdown",
   "id": "25859613",
   "metadata": {},
   "source": [
    "**Analyzing purpose**"
   ]
  },
  {
   "cell_type": "code",
   "execution_count": null,
   "id": "f0ada1c7",
   "metadata": {},
   "outputs": [],
   "source": []
  }
 ],
 "metadata": {
  "kernelspec": {
   "display_name": "Python 3 (ipykernel)",
   "language": "python",
   "name": "python3"
  },
  "language_info": {
   "codemirror_mode": {
    "name": "ipython",
    "version": 3
   },
   "file_extension": ".py",
   "mimetype": "text/x-python",
   "name": "python",
   "nbconvert_exporter": "python",
   "pygments_lexer": "ipython3",
   "version": "3.9.7"
  }
 },
 "nbformat": 4,
 "nbformat_minor": 5
}
